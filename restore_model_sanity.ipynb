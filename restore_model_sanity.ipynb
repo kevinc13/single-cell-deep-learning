{
 "cells": [
  {
   "cell_type": "code",
   "execution_count": null,
   "metadata": {},
   "outputs": [],
   "source": [
    "import numpy as np\n",
    "import pandas as pd\n",
    "\n",
    "from sklearn import preprocessing\n",
    "\n",
    "from framework.common.dataset import Dataset\n",
    "from framework.keras.autoencoder import VariationalAutoencoder as VAE\n",
    "from framework.common.util import save_data_table"
   ]
  },
  {
   "cell_type": "code",
   "execution_count": null,
   "metadata": {},
   "outputs": [],
   "source": [
    "# Model directory\n",
    "model_dir = \"/Users/kevin/Desktop/GBMVAE_Final\"\n",
    "model_config = VAE.load_config(\"results/gbm/vae/Train1000gGBMVAE/GBMVAE_Final\")\n",
    "model_config[\"model_dir\"] = model_dir\n",
    "\n",
    "dataset_file = \"data/GSE57872_GBM/processed/gbm.1000g.centered.txt\"\n",
    "# GSE57872_GBM; GSE72056_Melanoma, GSE75688_Breast_Cancer\n",
    "dataset_features_start_idx = 1\n",
    "# Start indexes: melanoma = 1; gbm = 1; breast = 2"
   ]
  },
  {
   "cell_type": "code",
   "execution_count": null,
   "metadata": {},
   "outputs": [],
   "source": [
    "model_config[\"encoder_layers\"] = [\n",
    "    \"Dense:1000:activation='elu'\",\n",
    "    \"Dense:100:activation='elu'\"\n",
    "]"
   ]
  },
  {
   "cell_type": "code",
   "execution_count": null,
   "metadata": {},
   "outputs": [],
   "source": [
    "def load_dataset():\n",
    "    dataset = pd.read_csv(dataset_file, sep=\"\\t\", header=0, index_col=0)\n",
    "    features = dataset.iloc[:, dataset_features_start_idx:].values.astype(dtype=np.float64)\n",
    "    cell_ids = dataset.index.values\n",
    "    \n",
    "    return dataset, cell_ids, features\n",
    "\n",
    "dataset, cell_ids, features = load_dataset()\n",
    "\n",
    "scaler = preprocessing.StandardScaler()\n",
    "scaler.fit(features)\n",
    "features_scaled = scaler.transform(features)\n",
    "\n",
    "train_dataset = Dataset(features_scaled, features_scaled, sample_data=[cell_ids])"
   ]
  },
  {
   "cell_type": "code",
   "execution_count": null,
   "metadata": {},
   "outputs": [],
   "source": [
    "vae = VAE(model_config)\n",
    "vae.train(train_dataset, epochs=3, batch_size=model_config[\"batch_size\"])"
   ]
  },
  {
   "cell_type": "code",
   "execution_count": null,
   "metadata": {},
   "outputs": [],
   "source": [
    "results = vae.evaluate(train_dataset)\n",
    "print(results)\n",
    "\n",
    "import json\n",
    "with open(\"/Users/kevin/Desktop/GBMVAE_Final/results.json\", \"w\") as f:\n",
    "    json.dump(results, f)"
   ]
  },
  {
   "cell_type": "code",
   "execution_count": null,
   "metadata": {},
   "outputs": [],
   "source": [
    "ae_weights = vae.autoencoder_model.get_weights()\n",
    "enc_weights = vae.encoder_model.get_weights()\n",
    "gen_weights = vae.generator_model.get_weights()"
   ]
  },
  {
   "cell_type": "code",
   "execution_count": null,
   "metadata": {},
   "outputs": [],
   "source": [
    "latent_reps = vae.encode(train_dataset.features)\n",
    "results = np.hstack((\n",
    "    np.expand_dims(train_dataset.sample_data[0], axis=1),\n",
    "    latent_reps\n",
    "))\n",
    "\n",
    "header = [\"cell_ids\"]\n",
    "for l in range(1, model_config[\"latent_size\"] + 1):\n",
    "    header.append(\"dim{}\".format(l))\n",
    "header = np.array(header)\n",
    "\n",
    "results = np.vstack((header, results))\n",
    "save_data_table(results,\n",
    "                model_config[\"model_dir\"] + \"/latent_representations.txt\")"
   ]
  },
  {
   "cell_type": "code",
   "execution_count": null,
   "metadata": {},
   "outputs": [],
   "source": [
    "import tensorflow as tf\n",
    "import keras.backend as K\n",
    "tf.reset_default_graph()\n",
    "K.clear_session()\n",
    "del vae"
   ]
  },
  {
   "cell_type": "code",
   "execution_count": null,
   "metadata": {},
   "outputs": [],
   "source": [
    "vae = VAE.restore(model_dir)"
   ]
  },
  {
   "cell_type": "code",
   "execution_count": null,
   "metadata": {},
   "outputs": [],
   "source": [
    "vae.evaluate(train_dataset)"
   ]
  },
  {
   "cell_type": "code",
   "execution_count": null,
   "metadata": {},
   "outputs": [],
   "source": [
    "restored_ae_weights = vae.autoencoder_model.get_weights()\n",
    "restored_enc_weights = vae.encoder_model.get_weights()\n",
    "restored_gen_weights = vae.generator_model.get_weights()\n",
    "restored_weights = dict(zip([\"ae\", \"enc\", \"gen\"], \n",
    "                            [restored_ae_weights, \n",
    "                             restored_enc_weights, \n",
    "                             restored_gen_weights]))"
   ]
  },
  {
   "cell_type": "code",
   "execution_count": null,
   "metadata": {},
   "outputs": [],
   "source": [
    "orig_weights = dict(zip([\"ae\", \"enc\", \"gen\"], [ae_weights, enc_weights, gen_weights]))\n",
    "\n",
    "for name, weight_list in orig_weights.items():\n",
    "    for index, weights in enumerate(weight_list):\n",
    "        if not np.allclose(weights, restored_weights[name][index]):\n",
    "            print(\"Mismatch in weights:\", name, \"- Layer\", index)"
   ]
  },
  {
   "cell_type": "code",
   "execution_count": null,
   "metadata": {},
   "outputs": [],
   "source": []
  },
  {
   "cell_type": "code",
   "execution_count": null,
   "metadata": {},
   "outputs": [],
   "source": [
    "from sklearn.manifold import TSNE\n",
    "import matplotlib.pyplot as plt\n",
    "\n",
    "def fit_tsne(features):\n",
    "    tsne_model = TSNE(n_components=2, init='pca', random_state=0, perplexity=30)\n",
    "    return tsne_model.fit_transform(features)\n",
    "\n",
    "tsne_output_1 = fit_tsne(latent_reps)\n",
    "tsne_output_2 = fit_tsne(vae.encode(train_dataset.features))"
   ]
  },
  {
   "cell_type": "code",
   "execution_count": null,
   "metadata": {},
   "outputs": [],
   "source": [
    "plt.figure(1)\n",
    "plt.scatter(tsne_output_1[:, 0], tsne_output_1[:, 1])\n",
    "plt.title(\"Original VAE Latent Space\")\n",
    "\n",
    "plt.figure(2)\n",
    "plt.scatter(tsne_output_2[:, 0], tsne_output_2[:, 1])\n",
    "plt.title(\"Restored VAE Latent Space\")\n",
    "\n",
    "plt.show()"
   ]
  },
  {
   "cell_type": "code",
   "execution_count": null,
   "metadata": {},
   "outputs": [],
   "source": [
    "vae.__dict__"
   ]
  },
  {
   "cell_type": "code",
   "execution_count": null,
   "metadata": {},
   "outputs": [],
   "source": [
    "vae.autoencoder_model.summary()"
   ]
  },
  {
   "cell_type": "code",
   "execution_count": null,
   "metadata": {},
   "outputs": [],
   "source": [
    "vae.predict(features_scaled)"
   ]
  },
  {
   "cell_type": "code",
   "execution_count": null,
   "metadata": {},
   "outputs": [],
   "source": []
  }
 ],
 "metadata": {
  "kernelspec": {
   "display_name": "Python 3",
   "language": "python",
   "name": "python3"
  },
  "language_info": {
   "codemirror_mode": {
    "name": "ipython",
    "version": 3
   },
   "file_extension": ".py",
   "mimetype": "text/x-python",
   "name": "python",
   "nbconvert_exporter": "python",
   "pygments_lexer": "ipython3",
   "version": "3.6.2"
  }
 },
 "nbformat": 4,
 "nbformat_minor": 2
}
