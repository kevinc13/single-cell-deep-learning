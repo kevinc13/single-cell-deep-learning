{
 "cells": [
  {
   "cell_type": "markdown",
   "metadata": {},
   "source": [
    "# Generate Reference Profiles for Cell Subpopulations\n",
    "\n",
    "This notebook uses a previously trained generative model and cluster assignments to generate reference profiles representative of each cluster. \n",
    "\n",
    "Specifically, each cell profile is encoded into its latent space representation, and a cluster-specific latent vector is derived by averaging the individual latent vectors of cells in that cluster. Then, the cluster-specific latent vectors are fed into the generator (or decoder) to produce a __reference__ profile."
   ]
  },
  {
   "cell_type": "code",
   "execution_count": 1,
   "metadata": {},
   "outputs": [
    {
     "name": "stderr",
     "output_type": "stream",
     "text": [
      "Using TensorFlow backend.\n"
     ]
    }
   ],
   "source": [
    "import numpy as np\n",
    "import pandas as pd\n",
    "import matplotlib.pyplot as plt\n",
    "from collections import OrderedDict\n",
    "\n",
    "import tensorflow as tf\n",
    "from sklearn import preprocessing\n",
    "from sklearn.manifold import TSNE\n",
    "\n",
    "from framework.common.dataset import Dataset\n",
    "from framework.keras.autoencoder import VariationalAutoencoder as VAE\n",
    "\n",
    "np.random.seed(1013)\n",
    "tf.set_random_seed(1013)"
   ]
  },
  {
   "cell_type": "code",
   "execution_count": 28,
   "metadata": {},
   "outputs": [],
   "source": [
    "# Model directory\n",
    "dataset = \"GBM\"\n",
    "model_dir = \"results/{}/Train1000g{}VAE/{}VAE_Final\".format(\n",
    "    dataset.lower(), dataset, dataset)\n",
    "\n",
    "# File that lists the cluster associated with each cell\n",
    "cluster_file = model_dir + \"/consensus_clusters_k10.txt\"\n",
    "# Which column in the file to use as the clusters\n",
    "cluster_col = \"consensus_cluster\"\n",
    "\n",
    "dataset_file = \"data/GSE57872_GBM/processed/gbm.1000g.centered.txt\"\n",
    "# GSE57872_GBM; GSE72056_Melanoma, GSE75688_Breast_Cancer\n",
    "dataset_features_start_idx = 1\n",
    "# Start indexes: melanoma = 1; gbm = 1; breast = 2\n",
    "\n",
    "latent_space_file = model_dir + \"/latent_representations.txt\"\n",
    "# What column in latent space file marks the end of \n",
    "# the features and the beginning of labels/other information\n",
    "features_end_col_idx = -1"
   ]
  },
  {
   "cell_type": "code",
   "execution_count": 29,
   "metadata": {},
   "outputs": [
    {
     "name": "stdout",
     "output_type": "stream",
     "text": [
      "Number of Clusters: 10\n"
     ]
    }
   ],
   "source": [
    "def load_dataset():\n",
    "    dataset = pd.read_csv(dataset_file, sep=\"\\t\", header=0, index_col=0)\n",
    "    features = dataset.iloc[:, dataset_features_start_idx:].values.astype(dtype=np.float64)\n",
    "    cell_ids = dataset.index.values\n",
    "    \n",
    "    return dataset, cell_ids, features\n",
    "\n",
    "def load_latent_space():\n",
    "    df = pd.read_csv(latent_space_file, sep=\"\\t\", header=0, index_col=0)\n",
    "    latent_space = df.iloc[:, 0:features_end_col_idx]\n",
    "    \n",
    "    return latent_space\n",
    "\n",
    "def load_clusters():\n",
    "    clusters_df = pd.read_csv(cluster_file, sep=\"\\t\", header=0, index_col=0)\n",
    "    clusters = clusters_df.loc[:, cluster_col]\n",
    "    return clusters\n",
    "\n",
    "dataset, cell_ids, features = load_dataset()\n",
    "latent_space = load_latent_space()\n",
    "\n",
    "scaler = preprocessing.StandardScaler()\n",
    "scaler.fit(features)\n",
    "features_scaled = scaler.transform(features)\n",
    "\n",
    "clusters = load_clusters()\n",
    "clusters = clusters[cell_ids]\n",
    "\n",
    "latent_space = latent_space.loc[cell_ids, :].values.astype(dtype=np.float64)\n",
    "\n",
    "classes = np.unique(clusters.values)\n",
    "print(\"Number of Clusters:\", len(classes))\n",
    "\n",
    "vae = VAE.restore(model_dir)\n",
    "# latent_space = vae.encode(features_scaled)\n",
    "# test_dataset = Dataset(features_scaled, features_scaled, sample_data=[cell_ids])"
   ]
  },
  {
   "cell_type": "code",
   "execution_count": 30,
   "metadata": {},
   "outputs": [
    {
     "name": "stdout",
     "output_type": "stream",
     "text": [
      "Generated reference profile for cluster 1\n",
      "Generated reference profile for cluster 2\n",
      "Generated reference profile for cluster 3\n",
      "Generated reference profile for cluster 4\n",
      "Generated reference profile for cluster 5\n",
      "Generated reference profile for cluster 6\n",
      "Generated reference profile for cluster 7\n",
      "Generated reference profile for cluster 8\n",
      "Generated reference profile for cluster 9\n",
      "Generated reference profile for cluster 10\n"
     ]
    }
   ],
   "source": [
    "# Generate expression profiles (using the scaled distribution)\n",
    "reference_profiles = OrderedDict()\n",
    "cluster_vectors = OrderedDict()\n",
    "for c in classes:\n",
    "    # Get latent space vectors for each cell in the cluster\n",
    "    latent_vectors = latent_space[clusters == c,]\n",
    "    # Average the latent vectors to derive a consensus vector for that cluster\n",
    "    cluster_vector = np.expand_dims(np.average(latent_vectors, axis=0), axis=0)\n",
    "    cluster_vectors[c] = np.squeeze(cluster_vector)\n",
    "    \n",
    "    # Generate a reference profile from the cluster vector\n",
    "    cluster_reference_profile = vae.generate(cluster_vector)\n",
    "    cluster_reference_profile = scaler.inverse_transform(cluster_reference_profile)\n",
    "    reference_profiles[c] = np.squeeze(cluster_reference_profile)\n",
    "    \n",
    "    print(\"Generated reference profile for cluster\", c)"
   ]
  },
  {
   "cell_type": "code",
   "execution_count": 31,
   "metadata": {},
   "outputs": [],
   "source": [
    "encoded_reference_profiles = vae.encode(\n",
    "    scaler.transform(np.array(list(reference_profiles.values()))))"
   ]
  },
  {
   "cell_type": "code",
   "execution_count": 33,
   "metadata": {},
   "outputs": [],
   "source": [
    "# Fit a t-SNE model to the features for visualization purposes\n",
    "def fit_tsne(features):\n",
    "    tsne_model = TSNE(n_components=2, init='pca', random_state=0, perplexity=30)\n",
    "    return tsne_model.fit_transform(features)\n",
    "\n",
    "tsne_output = fit_tsne(np.vstack(\n",
    "    (latent_space, \n",
    "     np.array(list(cluster_vectors.values())),\n",
    "     encoded_reference_profiles)\n",
    "))"
   ]
  },
  {
   "cell_type": "code",
   "execution_count": 34,
   "metadata": {},
   "outputs": [
    {
     "data": {
      "image/png": "[encoded data removed]",
      "text/plain": [
       "<matplotlib.figure.Figure at 0x122117630>"
      ]
     },
     "metadata": {},
     "output_type": "display_data"
    }
   ],
   "source": [
    "tsne_plot_labels = list(np.hstack(\n",
    "    (clusters, \n",
    "     np.repeat(np.max(clusters) + 1, len(classes)),\n",
    "     np.repeat(np.max(clusters) + 2, len(encoded_reference_profiles))\n",
    "    )\n",
    "))\n",
    "plt.scatter(tsne_output[:, 0], tsne_output[:, 1], \n",
    "            c=tsne_plot_labels, cmap=plt.cm.get_cmap(\n",
    "                \"rainbow\", len(np.unique(tsne_plot_labels))))\n",
    "plt.colorbar(ticks=np.unique(tsne_plot_labels))\n",
    "plt.clim(np.min(tsne_plot_labels)-0.5, np.max(tsne_plot_labels) + 0.5)\n",
    "plt.show()"
   ]
  },
  {
   "cell_type": "code",
   "execution_count": 35,
   "metadata": {},
   "outputs": [],
   "source": [
    "# Save cluster vectors\n",
    "cluster_vectors_df = pd.DataFrame.from_dict(cluster_vectors, orient=\"index\")\n",
    "cluster_vectors_df.index.name = \"cluster_id\"\n",
    "cluster_vectors_df.columns = [\"dim\" + str(i) for i in range(\n",
    "    1, len(cluster_vectors[next(iter(cluster_vectors))]) + 1)]\n",
    "cluster_vectors_df.to_csv(model_dir + \"/cluster_vectors/cluster_vectors_k\" + str(len(classes)) + \".txt\", \n",
    "                          index=True, sep=\"\\t\")\n",
    "\n",
    "# Save reference profiles\n",
    "reference_profiles_df = pd.DataFrame.from_dict(reference_profiles, orient=\"index\")\n",
    "reference_profiles_df.index.name = \"cluster_id\"\n",
    "reference_profiles_df.columns = dataset.columns[dataset_features_start_idx:]\n",
    "reference_profiles_df.to_csv(model_dir + \"/reference_profiles/reference_profiles_k\" + str(len(classes)) + \".txt\", \n",
    "                             index=True, sep=\"\\t\")"
   ]
  },
  {
   "cell_type": "code",
   "execution_count": null,
   "metadata": {},
   "outputs": [],
   "source": []
  }
 ],
 "metadata": {
  "kernelspec": {
   "display_name": "Python 3",
   "language": "python",
   "name": "python3"
  },
  "language_info": {
   "codemirror_mode": {
    "name": "ipython",
    "version": 3
   },
   "file_extension": ".py",
   "mimetype": "text/x-python",
   "name": "python",
   "nbconvert_exporter": "python",
   "pygments_lexer": "ipython3",
   "version": "3.6.2"
  }
 },
 "nbformat": 4,
 "nbformat_minor": 2
}
