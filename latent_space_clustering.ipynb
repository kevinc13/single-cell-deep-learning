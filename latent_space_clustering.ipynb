{
 "cells": [
  {
   "cell_type": "markdown",
   "metadata": {},
   "source": [
    "# Single-Cell Latent Space Clustering\n",
    "\n",
    "This notebook clusters and visualizes latent representations of single cells using various clustering methods and t-SNE projection."
   ]
  },
  {
   "cell_type": "code",
   "execution_count": null,
   "metadata": {},
   "outputs": [],
   "source": [
    "import numpy as np\n",
    "import pandas as pd\n",
    "import matplotlib.pyplot as plt\n",
    "from collections import OrderedDict\n",
    "\n",
    "from sklearn import metrics\n",
    "from sklearn.preprocessing import LabelEncoder\n",
    "from sklearn.manifold import TSNE\n",
    "\n",
    "from framework import clustering\n",
    "\n",
    "np.random.seed(1013)"
   ]
  },
  {
   "cell_type": "markdown",
   "metadata": {},
   "source": [
    "## Setup"
   ]
  },
  {
   "cell_type": "code",
   "execution_count": null,
   "metadata": {},
   "outputs": [],
   "source": [
    "# Shortcut for repetitive filepaths\n",
    "dataset = \"GBM\"\n",
    "model_dir = \"results/{}/Train1000g{}VAE/{}VAE_Final\".format(\n",
    "    dataset.lower(), dataset, dataset)\n",
    "latent_space_file = model_dir + \"/latent_representations.txt\"\n",
    "\n",
    "# Number of clusters to evaluate\n",
    "n_clusters = list(range(2, 12, 1))\n",
    "\n",
    "# Methods to use for clustering\n",
    "cluster_methods = [\"gmm\", \"km\", \"hc\"]\n",
    "\n",
    "# Column to use as labels (None if no labels)\n",
    "label_col = \"tumor_ids\"\n",
    "# Whether the labels should be used to calculate \n",
    "# clustering metrics\n",
    "calculate_metrics = False\n",
    "\n",
    "# What column marks the end of the features and \n",
    "# the beginning of labels/other information\n",
    "features_end_col_idx = -1\n",
    "\n",
    "cluster_output_file = model_dir + \"/clusters.txt\""
   ]
  },
  {
   "cell_type": "markdown",
   "metadata": {},
   "source": [
    "## Load the Latent Space"
   ]
  },
  {
   "cell_type": "code",
   "execution_count": null,
   "metadata": {},
   "outputs": [],
   "source": [
    "# Load the latent space\n",
    "def load_latent_space():\n",
    "    df = pd.read_csv(latent_space_file, sep=\"\\t\", header=0, index_col=0)\n",
    "    latent_space = df.iloc[:, 0:features_end_col_idx].values.astype(\n",
    "        dtype=np.float64)\n",
    "    \n",
    "    return df, latent_space\n",
    "    \n",
    "df, latent_space = load_latent_space()\n",
    "if label_col:\n",
    "    labels = df.loc[:, label_col].values\n",
    "    label_encoder = LabelEncoder()\n",
    "    label_encoder.fit(labels)\n",
    "    int_labels = label_encoder.transform(labels)\n",
    "    \n",
    "# Fit a t-SNE model to the features for visualization purposes\n",
    "def fit_tsne(features):\n",
    "    tsne_model = TSNE(n_components=2, init='pca', random_state=0, perplexity=30)\n",
    "    return tsne_model.fit_transform(features)\n",
    "\n",
    "tsne_output = fit_tsne(latent_space)"
   ]
  },
  {
   "cell_type": "code",
   "execution_count": null,
   "metadata": {},
   "outputs": [],
   "source": [
    "# Plot t-SNE projection\n",
    "if label_col:\n",
    "    plt.scatter(tsne_output[:, 0], tsne_output[:, 1], \n",
    "                c=int_labels, cmap=plt.cm.get_cmap('rainbow', len(np.unique(int_labels))))\n",
    "    plt.colorbar()\n",
    "    plt.clim(-0.5, np.max(int_labels) + 0.5)\n",
    "else:\n",
    "    plt.scatter(tsne_output[:, 0], tsne_output[:, 1])\n",
    "plt.show()"
   ]
  },
  {
   "cell_type": "markdown",
   "metadata": {},
   "source": [
    "## Clustering"
   ]
  },
  {
   "cell_type": "code",
   "execution_count": null,
   "metadata": {},
   "outputs": [],
   "source": [
    "# Clustering\n",
    "clustering_results = OrderedDict([])\n",
    "for method in cluster_methods:\n",
    "    method_results = eval(\"clustering.cluster_\" + method)(latent_space, n_clusters)\n",
    "    clustering_results[method] = method_results\n",
    "\n",
    "# Calculate clustering metrics (if specified)\n",
    "if label_col and calculate_metrics:\n",
    "    print('name\\thomo\\tcompl\\tv-meas\\tARI\\tAMI\\tsilhouette')\n",
    "    for name, clusters in all_results:\n",
    "        print('%s\\t%.3f\\t%.3f\\t%.3f\\t%.3f\\t%.3f\\t%.3f'\n",
    "              % (name, metrics.homogeneity_score(int_labels, clusters),\n",
    "                 metrics.completeness_score(int_labels, clusters),\n",
    "                 metrics.v_measure_score(int_labels, clusters),\n",
    "                 metrics.adjusted_rand_score(int_labels, clusters),\n",
    "                 metrics.adjusted_mutual_info_score(int_labels,  clusters),\n",
    "                 metrics.silhouette_score(latent_space, clusters,\n",
    "                                          metric='euclidean')))\n",
    "else:\n",
    "    for name, results in clustering_results.items():\n",
    "        print(\"{} - Avg Silhouette Score: {}\".format(\n",
    "            name, metrics.silhouette_score(\n",
    "                latent_space, results[\"clusters\"], metric='euclidean')))"
   ]
  },
  {
   "cell_type": "code",
   "execution_count": null,
   "metadata": {},
   "outputs": [],
   "source": [
    "# Show plots of clusters\n",
    "for idx, (name, results) in enumerate(\n",
    "        clustering_results.items()):\n",
    "    plt.figure(idx + 1)\n",
    "    plt.scatter(tsne_output[:, 0], tsne_output[:, 1], \n",
    "                c=results[\"clusters\"], cmap=plt.cm.get_cmap(\n",
    "                    'Paired', len(np.unique(results[\"clusters\"]))))\n",
    "    plt.colorbar(ticks=np.unique(results[\"clusters\"]))\n",
    "    plt.clim(np.min(results[\"clusters\"]) - 0.5, np.max(results[\"clusters\"]) + 0.5)\n",
    "    plt.title(name.upper() + \" Clustering\")\n",
    "\n",
    "plt.show()"
   ]
  },
  {
   "cell_type": "code",
   "execution_count": null,
   "metadata": {},
   "outputs": [],
   "source": [
    "# Save clusters\n",
    "# clustering_cols = [(name, results[\"clusters\"]) for name, results in clustering_results.items()]\n",
    "# clustering_cols.insert(0, (\"cell_id\", df.index.values))\n",
    "# output_df = pd.DataFrame(OrderedDict(clustering_cols))\n",
    "# output_df.to_csv(cluster_output_file, index=False, sep=\"\\t\")"
   ]
  },
  {
   "cell_type": "code",
   "execution_count": null,
   "metadata": {},
   "outputs": [],
   "source": []
  }
 ],
 "metadata": {
  "kernelspec": {
   "display_name": "Python 3",
   "language": "python",
   "name": "python3"
  },
  "language_info": {
   "codemirror_mode": {
    "name": "ipython",
    "version": 3
   },
   "file_extension": ".py",
   "mimetype": "text/x-python",
   "name": "python",
   "nbconvert_exporter": "python",
   "pygments_lexer": "ipython3",
   "version": "3.6.2"
  }
 },
 "nbformat": 4,
 "nbformat_minor": 2
}
